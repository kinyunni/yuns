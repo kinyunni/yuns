{
  "nbformat": 4,
  "nbformat_minor": 0,
  "metadata": {
    "colab": {
      "name": "Untitled0.ipynb",
      "provenance": [],
      "authorship_tag": "ABX9TyOgyBSIC4SuDsyGKsKnUYgK",
      "include_colab_link": true
    },
    "kernelspec": {
      "name": "python3",
      "display_name": "Python 3"
    },
    "language_info": {
      "name": "python"
    }
  },
  "cells": [
    {
      "cell_type": "markdown",
      "metadata": {
        "id": "view-in-github",
        "colab_type": "text"
      },
      "source": [
        "<a href=\"https://colab.research.google.com/github/kinyunni/yuns/blob/main/Untitled0.ipynb\" target=\"_parent\"><img src=\"https://colab.research.google.com/assets/colab-badge.svg\" alt=\"Open In Colab\"/></a>"
      ]
    },
    {
      "cell_type": "code",
      "execution_count": null,
      "metadata": {
        "colab": {
          "base_uri": "https://localhost:8080/"
        },
        "id": "0_p-2cr4u7sX",
        "outputId": "cb5bb3aa-81fd-42e3-cf7f-8438398ebe9d"
      },
      "outputs": [
        {
          "output_type": "stream",
          "name": "stdout",
          "text": [
            "hello wdrld\n"
          ]
        }
      ],
      "source": [
        "print(\"hello wdrld\")"
      ]
    },
    {
      "cell_type": "code",
      "source": [
        "print(\"hello wdrld\")"
      ],
      "metadata": {
        "colab": {
          "base_uri": "https://localhost:8080/"
        },
        "id": "NRjoB_0mv96B",
        "outputId": "205524ff-f9ec-4af2-e20a-5280d7477547"
      },
      "execution_count": null,
      "outputs": [
        {
          "output_type": "stream",
          "name": "stdout",
          "text": [
            "hello wdrld\n"
          ]
        }
      ]
    },
    {
      "cell_type": "code",
      "source": [
        "print(1+2)"
      ],
      "metadata": {
        "colab": {
          "base_uri": "https://localhost:8080/"
        },
        "id": "Mep63xk0wBIE",
        "outputId": "eff80b91-daf7-4ab1-a32a-4ef33f8b4e0c"
      },
      "execution_count": null,
      "outputs": [
        {
          "output_type": "stream",
          "name": "stdout",
          "text": [
            "3\n"
          ]
        }
      ]
    },
    {
      "cell_type": "code",
      "source": [
        "print(2*3)"
      ],
      "metadata": {
        "colab": {
          "base_uri": "https://localhost:8080/"
        },
        "id": "bJxb9Ze9wF8F",
        "outputId": "1243084c-e16b-4d8c-8905-d4203fcef312"
      },
      "execution_count": null,
      "outputs": [
        {
          "output_type": "stream",
          "name": "stdout",
          "text": [
            "6\n"
          ]
        }
      ]
    },
    {
      "cell_type": "code",
      "source": [
        "print(True)"
      ],
      "metadata": {
        "id": "k3_ql4zpxjrV",
        "outputId": "27855a39-8c63-40f2-dfe7-51ca4cba8cd7",
        "colab": {
          "base_uri": "https://localhost:8080/"
        }
      },
      "execution_count": 2,
      "outputs": [
        {
          "output_type": "stream",
          "name": "stdout",
          "text": [
            "True\n"
          ]
        }
      ]
    },
    {
      "cell_type": "code",
      "source": [
        "print(False)"
      ],
      "metadata": {
        "id": "XBy0YzhnxnNg",
        "outputId": "e155bd80-53f2-4396-ffb7-3369b839ddcc",
        "colab": {
          "base_uri": "https://localhost:8080/"
        }
      },
      "execution_count": 3,
      "outputs": [
        {
          "output_type": "stream",
          "name": "stdout",
          "text": [
            "False\n"
          ]
        }
      ]
    },
    {
      "cell_type": "code",
      "source": [
        "a = 3;b = 4;c = a + b;print(c); print(a); print(b)"
      ],
      "metadata": {
        "id": "3QtbrThCx-8V",
        "outputId": "28d5f9fb-5236-44a8-cf74-ddb6bac649e6",
        "colab": {
          "base_uri": "https://localhost:8080/"
        }
      },
      "execution_count": 7,
      "outputs": [
        {
          "output_type": "stream",
          "name": "stdout",
          "text": [
            "7\n",
            "3\n",
            "4\n"
          ]
        }
      ]
    },
    {
      "cell_type": "code",
      "source": [
        "a = \"안녕하세요.\";\n",
        "b = \"반갑습니다.\";\n",
        "c = a + b;\n",
        "print(c)"
      ],
      "metadata": {
        "id": "dJKWsmtUy4qX",
        "outputId": "1fe3363f-3e40-454a-d1b0-aa87b903ba65",
        "colab": {
          "base_uri": "https://localhost:8080/"
        }
      },
      "execution_count": 9,
      "outputs": [
        {
          "output_type": "stream",
          "name": "stdout",
          "text": [
            "안녕하세요.반갑습니다.\n"
          ]
        }
      ]
    },
    {
      "cell_type": "code",
      "source": [
        "a = \"안녕하세요\";\n",
        "b = a * 10;\n",
        "print(b)"
      ],
      "metadata": {
        "id": "jmzu66sCzQVk",
        "outputId": "22d7837a-658b-4619-ee99-49de5fc91e7c",
        "colab": {
          "base_uri": "https://localhost:8080/"
        }
      },
      "execution_count": 10,
      "outputs": [
        {
          "output_type": "stream",
          "name": "stdout",
          "text": [
            "안녕하세요안녕하세요안녕하세요안녕하세요안녕하세요안녕하세요안녕하세요안녕하세요안녕하세요안녕하세요\n"
          ]
        }
      ]
    },
    {
      "cell_type": "code",
      "source": [
        "print(\"############\")\n",
        "print(\"#\" * 15)"
      ],
      "metadata": {
        "id": "Mb_tEJ3nzm4r",
        "outputId": "9a58de09-2d53-4dbb-c290-a64f87b0c694",
        "colab": {
          "base_uri": "https://localhost:8080/"
        }
      },
      "execution_count": 13,
      "outputs": [
        {
          "output_type": "stream",
          "name": "stdout",
          "text": [
            "############\n",
            "###############\n"
          ]
        }
      ]
    },
    {
      "cell_type": "markdown",
      "source": [
        "아버지와 어머니 그리고 삼촌에게 감사한마음을 전하고 싶습니다. 아버지에게는 10만원, 어머니에게는 15만원, 삼촌에게는\"감사합니다\" 변수 : _Father._Mother._Uncle"
      ],
      "metadata": {
        "id": "Y7Rk-pgV0B-3"
      }
    },
    {
      "cell_type": "code",
      "source": [
        "_Father = \"100,000\"\n",
        "_Mother = \"150,000\"\n",
        "_Uncle = \"감사합니다.\"\n",
        "Thanks = _Father, _Mother, _Uncle\n",
        "print(\"아버지=\", _Father, \"원\")\n",
        "print(\"어머니=\", _Mother, \"원\")\n",
        "print(\"삼촌=\", _Uncle)\n"
      ],
      "metadata": {
        "id": "Z00H2zaF0xyJ",
        "outputId": "20a1570d-ee4f-4ac6-ce49-b84c486e72e6",
        "colab": {
          "base_uri": "https://localhost:8080/"
        }
      },
      "execution_count": 21,
      "outputs": [
        {
          "output_type": "stream",
          "name": "stdout",
          "text": [
            "아버지= 100,000 원\n",
            "어머니= 150,000 원\n",
            "삼촌= 감사합니다.\n"
          ]
        }
      ]
    },
    {
      "cell_type": "markdown",
      "source": [
        "변수의 규칙 : 문자 또는 _로 시작(Father,father,_father),문자,숫자_구성\n",
        "(Father69, father55, father_56),공백 절대안된다.안쓰는 것이 좋다. 특수문자 절대안된다."
      ],
      "metadata": {
        "id": "BIRbuCMI28Rq"
      }
    },
    {
      "cell_type": "markdown",
      "source": [
        "FATHER,father,MOTHER,mother,_Father,_father,Keyword(True,False,for,white,if,continue,break,class...)\n"
      ],
      "metadata": {
        "id": "ZmYXauH939W2"
      }
    },
    {
      "cell_type": "markdown",
      "source": [
        "숫자자료형 = 숫자,문자자료형 = 모든 문자들.."
      ],
      "metadata": {
        "id": "P28cFeoc5DnV"
      }
    },
    {
      "cell_type": "code",
      "source": [
        "a= 2\n",
        "b = \"2\"\n",
        "c = a + int(b)\n",
        "print(c)"
      ],
      "metadata": {
        "id": "E7VQY_L95JJ9",
        "outputId": "598ba5fa-2078-4e6d-b55c-092f4b887c26",
        "colab": {
          "base_uri": "https://localhost:8080/"
        }
      },
      "execution_count": 23,
      "outputs": [
        {
          "output_type": "stream",
          "name": "stdout",
          "text": [
            "4\n"
          ]
        }
      ]
    },
    {
      "cell_type": "markdown",
      "source": [
        "형변환:정수형을 변환할때 int(),실수형을 변환하고자 할때float(),문자자료형으로 변환하고자할때str(),int(float(\"2.5\"))"
      ],
      "metadata": {
        "id": "f9zkHKL96cmV"
      }
    },
    {
      "cell_type": "markdown",
      "source": [
        "산술연산자 : + 더하기(print(4+3), = 빼기(print(2-1), * 곱하기(print(5*4), /나누기(print(4/2)), % 나머지 print(5 % 2), // 몫 print(6 // 2), **거듭제곱 print(4**2)"
      ],
      "metadata": {
        "id": "73xM0gOg62gL"
      }
    }
  ]
}